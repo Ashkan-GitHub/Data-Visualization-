{
 "cells": [
  {
   "cell_type": "code",
   "execution_count": 4,
   "id": "5e1ce672-660e-4fbf-a49b-82a3e5eacbd5",
   "metadata": {
    "tags": []
   },
   "outputs": [
    {
     "name": "stdout",
     "output_type": "stream",
     "text": [
      "Requirement already satisfied: pandas in ./opt/anaconda3/lib/python3.9/site-packages (1.5.2)\n",
      "Collecting dash\n",
      "  Downloading dash-2.7.1-py3-none-any.whl (9.9 MB)\n",
      "\u001b[K     |████████████████████████████████| 9.9 MB 3.8 MB/s eta 0:00:01\n",
      "\u001b[?25hRequirement already satisfied: numpy>=1.20.3 in ./opt/anaconda3/lib/python3.9/site-packages (from pandas) (1.21.5)\n",
      "Requirement already satisfied: pytz>=2020.1 in ./opt/anaconda3/lib/python3.9/site-packages (from pandas) (2021.3)\n",
      "Requirement already satisfied: python-dateutil>=2.8.1 in ./opt/anaconda3/lib/python3.9/site-packages (from pandas) (2.8.2)\n",
      "Requirement already satisfied: Flask>=1.0.4 in ./opt/anaconda3/lib/python3.9/site-packages (from dash) (1.1.2)\n",
      "Requirement already satisfied: plotly>=5.0.0 in ./opt/anaconda3/lib/python3.9/site-packages (from dash) (5.6.0)\n",
      "Collecting dash-core-components==2.0.0\n",
      "  Downloading dash_core_components-2.0.0-py3-none-any.whl (3.8 kB)\n",
      "Collecting dash-html-components==2.0.0\n",
      "  Downloading dash_html_components-2.0.0-py3-none-any.whl (4.1 kB)\n",
      "Collecting dash-table==5.0.0\n",
      "  Downloading dash_table-5.0.0-py3-none-any.whl (3.9 kB)\n",
      "Requirement already satisfied: click>=5.1 in ./opt/anaconda3/lib/python3.9/site-packages (from Flask>=1.0.4->dash) (8.0.4)\n",
      "Requirement already satisfied: Werkzeug>=0.15 in ./opt/anaconda3/lib/python3.9/site-packages (from Flask>=1.0.4->dash) (2.0.3)\n",
      "Requirement already satisfied: Jinja2>=2.10.1 in ./opt/anaconda3/lib/python3.9/site-packages (from Flask>=1.0.4->dash) (2.11.3)\n",
      "Requirement already satisfied: itsdangerous>=0.24 in ./opt/anaconda3/lib/python3.9/site-packages (from Flask>=1.0.4->dash) (2.0.1)\n",
      "Requirement already satisfied: MarkupSafe>=0.23 in ./opt/anaconda3/lib/python3.9/site-packages (from Jinja2>=2.10.1->Flask>=1.0.4->dash) (2.0.1)\n",
      "Requirement already satisfied: six in ./opt/anaconda3/lib/python3.9/site-packages (from plotly>=5.0.0->dash) (1.16.0)\n",
      "Requirement already satisfied: tenacity>=6.2.0 in ./opt/anaconda3/lib/python3.9/site-packages (from plotly>=5.0.0->dash) (8.0.1)\n",
      "Installing collected packages: dash-table, dash-html-components, dash-core-components, dash\n",
      "Successfully installed dash-2.7.1 dash-core-components-2.0.0 dash-html-components-2.0.0 dash-table-5.0.0\n",
      "Note: you may need to restart the kernel to use updated packages.\n"
     ]
    }
   ],
   "source": [
    "pip install pandas dash"
   ]
  },
  {
   "cell_type": "code",
   "execution_count": 6,
   "id": "53303207-0a2d-4229-bf01-2a313d118e8a",
   "metadata": {},
   "outputs": [
    {
     "name": "stdout",
     "output_type": "stream",
     "text": [
      "Collecting httpx==0.20\n",
      "  Downloading httpx-0.20.0-py3-none-any.whl (82 kB)\n",
      "\u001b[K     |████████████████████████████████| 82 kB 399 kB/s eta 0:00:01\n",
      "\u001b[?25hRequirement already satisfied: dash in ./opt/anaconda3/lib/python3.9/site-packages (2.7.1)\n",
      "Requirement already satisfied: plotly in ./opt/anaconda3/lib/python3.9/site-packages (5.6.0)\n",
      "Requirement already satisfied: certifi in ./opt/anaconda3/lib/python3.9/site-packages (from httpx==0.20) (2021.10.8)\n",
      "Collecting rfc3986[idna2008]<2,>=1.3\n",
      "  Downloading rfc3986-1.5.0-py2.py3-none-any.whl (31 kB)\n",
      "Requirement already satisfied: charset-normalizer in ./opt/anaconda3/lib/python3.9/site-packages (from httpx==0.20) (2.0.4)\n",
      "Requirement already satisfied: sniffio in ./opt/anaconda3/lib/python3.9/site-packages (from httpx==0.20) (1.2.0)\n",
      "Collecting httpcore<0.14.0,>=0.13.3\n",
      "  Downloading httpcore-0.13.7-py3-none-any.whl (58 kB)\n",
      "\u001b[K     |████████████████████████████████| 58 kB 7.8 MB/s eta 0:00:01\n",
      "\u001b[?25hRequirement already satisfied: dash-table==5.0.0 in ./opt/anaconda3/lib/python3.9/site-packages (from dash) (5.0.0)\n",
      "Requirement already satisfied: dash-core-components==2.0.0 in ./opt/anaconda3/lib/python3.9/site-packages (from dash) (2.0.0)\n",
      "Requirement already satisfied: dash-html-components==2.0.0 in ./opt/anaconda3/lib/python3.9/site-packages (from dash) (2.0.0)\n",
      "Requirement already satisfied: Flask>=1.0.4 in ./opt/anaconda3/lib/python3.9/site-packages (from dash) (1.1.2)\n",
      "Requirement already satisfied: six in ./opt/anaconda3/lib/python3.9/site-packages (from plotly) (1.16.0)\n",
      "Requirement already satisfied: tenacity>=6.2.0 in ./opt/anaconda3/lib/python3.9/site-packages (from plotly) (8.0.1)\n",
      "Requirement already satisfied: itsdangerous>=0.24 in ./opt/anaconda3/lib/python3.9/site-packages (from Flask>=1.0.4->dash) (2.0.1)\n",
      "Requirement already satisfied: click>=5.1 in ./opt/anaconda3/lib/python3.9/site-packages (from Flask>=1.0.4->dash) (8.0.4)\n",
      "Requirement already satisfied: Jinja2>=2.10.1 in ./opt/anaconda3/lib/python3.9/site-packages (from Flask>=1.0.4->dash) (2.11.3)\n",
      "Requirement already satisfied: Werkzeug>=0.15 in ./opt/anaconda3/lib/python3.9/site-packages (from Flask>=1.0.4->dash) (2.0.3)\n",
      "Collecting h11<0.13,>=0.11\n",
      "  Downloading h11-0.12.0-py3-none-any.whl (54 kB)\n",
      "\u001b[K     |████████████████████████████████| 54 kB 4.9 MB/s  eta 0:00:01\n",
      "\u001b[?25hRequirement already satisfied: anyio==3.* in ./opt/anaconda3/lib/python3.9/site-packages (from httpcore<0.14.0,>=0.13.3->httpx==0.20) (3.5.0)\n",
      "Requirement already satisfied: idna>=2.8 in ./opt/anaconda3/lib/python3.9/site-packages (from anyio==3.*->httpcore<0.14.0,>=0.13.3->httpx==0.20) (3.3)\n",
      "Requirement already satisfied: MarkupSafe>=0.23 in ./opt/anaconda3/lib/python3.9/site-packages (from Jinja2>=2.10.1->Flask>=1.0.4->dash) (2.0.1)\n",
      "Installing collected packages: rfc3986, h11, httpcore, httpx\n",
      "Successfully installed h11-0.12.0 httpcore-0.13.7 httpx-0.20.0 rfc3986-1.5.0\n"
     ]
    }
   ],
   "source": [
    "!pip3 install httpx==0.20 dash plotly"
   ]
  },
  {
   "cell_type": "code",
   "execution_count": null,
   "id": "4eeeb770-4e15-4294-a7d6-eaaaa792bdec",
   "metadata": {},
   "outputs": [
    {
     "name": "stdout",
     "output_type": "stream",
     "text": [
      "Dash is running on http://127.0.0.1:8050/\n",
      "\n",
      " * Serving Flask app \"__main__\" (lazy loading)\n",
      " * Environment: production\n",
      "\u001b[31m   WARNING: This is a development server. Do not use it in a production deployment.\u001b[0m\n",
      "\u001b[2m   Use a production WSGI server instead.\u001b[0m\n",
      " * Debug mode: off\n"
     ]
    },
    {
     "name": "stderr",
     "output_type": "stream",
     "text": [
      " * Running on http://127.0.0.1:8050/ (Press CTRL+C to quit)\n",
      "127.0.0.1 - - [07/Jan/2023 16:29:42] \"GET / HTTP/1.1\" 200 -\n",
      "127.0.0.1 - - [07/Jan/2023 16:29:42] \"GET /_dash-component-suites/dash/deps/polyfill@7.v2_7_1m1673126831.12.1.min.js HTTP/1.1\" 200 -\n",
      "127.0.0.1 - - [07/Jan/2023 16:29:42] \"GET /_dash-component-suites/dash/deps/react@16.v2_7_1m1673126831.14.0.min.js HTTP/1.1\" 200 -\n",
      "127.0.0.1 - - [07/Jan/2023 16:29:42] \"GET /_dash-component-suites/dash/deps/react-dom@16.v2_7_1m1673126831.14.0.min.js HTTP/1.1\" 200 -\n",
      "127.0.0.1 - - [07/Jan/2023 16:29:42] \"GET /_dash-component-suites/dash/deps/prop-types@15.v2_7_1m1673126831.8.1.min.js HTTP/1.1\" 200 -\n",
      "127.0.0.1 - - [07/Jan/2023 16:29:42] \"GET /_dash-component-suites/dash/dash-renderer/build/dash_renderer.v2_7_1m1673126831.min.js HTTP/1.1\" 200 -\n",
      "127.0.0.1 - - [07/Jan/2023 16:29:42] \"GET /_dash-component-suites/dash/dcc/dash_core_components.v2_7_1m1673126831.js HTTP/1.1\" 200 -\n",
      "127.0.0.1 - - [07/Jan/2023 16:29:42] \"GET /_dash-component-suites/dash/dcc/dash_core_components-shared.v2_7_1m1673126831.js HTTP/1.1\" 200 -\n",
      "127.0.0.1 - - [07/Jan/2023 16:29:42] \"GET /_dash-component-suites/dash/html/dash_html_components.v2_0_7m1673126831.min.js HTTP/1.1\" 200 -\n",
      "127.0.0.1 - - [07/Jan/2023 16:29:42] \"GET /_dash-component-suites/dash/dash_table/bundle.v5_2_1m1673126831.js HTTP/1.1\" 200 -\n",
      "127.0.0.1 - - [07/Jan/2023 16:29:42] \"GET /_dash-dependencies HTTP/1.1\" 200 -\n",
      "127.0.0.1 - - [07/Jan/2023 16:29:42] \"GET /_dash-layout HTTP/1.1\" 200 -\n",
      "127.0.0.1 - - [07/Jan/2023 16:29:42] \"GET /_dash-component-suites/dash/dcc/async-graph.js HTTP/1.1\" 200 -\n",
      "127.0.0.1 - - [07/Jan/2023 16:29:42] \"GET /_dash-component-suites/dash/dcc/async-plotlyjs.js HTTP/1.1\" 200 -\n",
      "127.0.0.1 - - [07/Jan/2023 16:29:43] \"GET /_favicon.ico?v=2.7.1 HTTP/1.1\" 200 -\n"
     ]
    }
   ],
   "source": [
    "# Import required packages\n",
    "import pandas as pd\n",
    "import plotly.express as px\n",
    "import dash\n",
    "import dash_html_components as html\n",
    "import dash_core_components as dcc\n",
    "\n",
    "# Read the airline data into pandas dataframe\n",
    "airline_data =  pd.read_csv('https://cf-courses-data.s3.us.cloud-object-storage.appdomain.cloud/IBMDeveloperSkillsNetwork-DV0101EN-SkillsNetwork/Data%20Files/airline_data.csv', \n",
    "                            encoding = \"ISO-8859-1\",\n",
    "                            dtype={'Div1Airport': str, 'Div1TailNum': str, \n",
    "                                   'Div2Airport': str, 'Div2TailNum': str})\n",
    "\n",
    "# Randomly sample 500 data points. Setting the random state to be 42 so that we get same result.\n",
    "data = airline_data.sample(n=500, random_state=42)\n",
    "\n",
    "# Pie Chart Creation\n",
    "fig = px.pie(data, values='Flights', names='DistanceGroup', title='Distance group proportion by flights')\n",
    "\n",
    "# Create a dash application\n",
    "app = dash.Dash(__name__)\n",
    "\n",
    "# Get the layout of the application and adjust it.\n",
    "# Create an outer division using html.Div and add title to the dashboard using html.H1 component\n",
    "# Add description about the graph using HTML P (paragraph) component\n",
    "# Finally, add graph component.\n",
    "app.layout = html.Div(children=[html.H1('Airline Dashboard', style={'textAlign': 'center', 'color': '#503D36', 'font-size': 40}),\n",
    "                                html.P('Proportion of distance group (250 mile distance interval group) by flights.', style={'textAlign':'center', 'color': '#F57241'}),\n",
    "                                dcc.Graph(figure=fig),\n",
    "\n",
    "                    ])\n",
    "\n",
    "# Run the application                   \n",
    "if __name__ == '__main__':\n",
    "    app.run_server()"
   ]
  },
  {
   "cell_type": "code",
   "execution_count": null,
   "id": "1204ac24-96dc-4871-a783-3a8f8b3bc54c",
   "metadata": {},
   "outputs": [],
   "source": []
  },
  {
   "cell_type": "code",
   "execution_count": null,
   "id": "7425f57f-5084-47db-92e3-396390c4d51a",
   "metadata": {},
   "outputs": [],
   "source": []
  }
 ],
 "metadata": {
  "kernelspec": {
   "display_name": "Python 3 (ipykernel)",
   "language": "python",
   "name": "python3"
  },
  "language_info": {
   "codemirror_mode": {
    "name": "ipython",
    "version": 3
   },
   "file_extension": ".py",
   "mimetype": "text/x-python",
   "name": "python",
   "nbconvert_exporter": "python",
   "pygments_lexer": "ipython3",
   "version": "3.9.12"
  }
 },
 "nbformat": 4,
 "nbformat_minor": 5
}
